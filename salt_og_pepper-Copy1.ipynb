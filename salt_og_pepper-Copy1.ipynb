{
 "cells": [
  {
   "cell_type": "markdown",
   "metadata": {},
   "source": [
    "#### Boot cell\n",
    "\n",
    "Skip if `module_update.py` is in same folder as notebook, next cell downloads this file which in turn will download other files."
   ]
  },
  {
   "cell_type": "code",
   "execution_count": 1,
   "metadata": {},
   "outputs": [],
   "source": [
    "import urllib.request, shutil\n",
    "with urllib.request.urlopen(\"https://raw.githubusercontent.com/Yoonsen/Modules/master/module_update.py\") as response, open(\"module_update.py\", 'wb') as out_file:\n",
    "    shutil.copyfileobj(response, out_file)"
   ]
  },
  {
   "cell_type": "markdown",
   "metadata": {},
   "source": [
    "#### Get essentials\n",
    "\n",
    "Import text and graph modules for analysis, and css for display"
   ]
  },
  {
   "cell_type": "code",
   "execution_count": 2,
   "metadata": {
    "slideshow": {
     "slide_type": "slide"
    }
   },
   "outputs": [
    {
     "name": "stdout",
     "output_type": "stream",
     "text": [
      "Updated file nbtext.py\n"
     ]
    }
   ],
   "source": [
    "from module_update import update, css"
   ]
  },
  {
   "cell_type": "code",
   "execution_count": 3,
   "metadata": {},
   "outputs": [
    {
     "data": {
      "text/html": [
       "<style>@import url(\n",
       "http://fonts.googleapis.com/css?family=Source+Serif+Pro|Crimson+Text|Montserrat|Source+Code+Pro|Roboto:400,700);\n",
       "\n",
       "/*\n",
       "#notebook-container {\n",
       "\t-webkit-box-shadow: none;\n",
       "\tbox-shadow: none;\n",
       "}\n",
       "*/\n",
       "\n",
       "h1, h2, h3, h4, h5, h6 {\n",
       "\tfont-family: 'Montserrat', sans-serif;\n",
       "\tline-height: 2em;\n",
       "    color: DarkSlateGray;\n",
       "}\n",
       "\n",
       "h1 { font-size: 4.5em; }\n",
       "h2 { font-size: 4em; }\n",
       "h3 { font-size: 3.5em; }\n",
       "h4 { font-size: 3em; }\n",
       "h5 { font-size: 2.5em; }\n",
       "h6 { font-size: 2em; }\n",
       "\n",
       "p {\n",
       "\tfont-family: 'Source Serif Pro', sans-serif;\n",
       "\tfont-size: 1.2em;\n",
       "\tline-height: 1.3em;\n",
       "\tcolor:DarkBlue;\n",
       "\tcolor: Black;\n",
       "}\n",
       "\n",
       ".inner_cell {\n",
       "\tborder:none;\n",
       "}\n",
       "\n",
       ".CodeMirror {\n",
       "\tfont-family: 'Source Code Pro', monospace;\n",
       "\tfont-size: 1em;\n",
       "\t\n",
       "}\n",
       "\n",
       "</style>"
      ],
      "text/plain": [
       "<IPython.core.display.HTML object>"
      ]
     },
     "execution_count": 3,
     "metadata": {},
     "output_type": "execute_result"
    }
   ],
   "source": [
    "css()"
   ]
  },
  {
   "cell_type": "markdown",
   "metadata": {
    "slideshow": {
     "slide_type": "slide"
    }
   },
   "source": [
    "# Dewey og Bayes"
   ]
  },
  {
   "cell_type": "markdown",
   "metadata": {},
   "source": [
    "Her har du selve notebooken som henter ut navn og lager graf."
   ]
  },
  {
   "cell_type": "markdown",
   "metadata": {},
   "source": [
    "### Start med å importere modulene"
   ]
  },
  {
   "cell_type": "code",
   "execution_count": 4,
   "metadata": {},
   "outputs": [
    {
     "name": "stdout",
     "output_type": "stream",
     "text": [
      "Updated file graph_networkx_louvain.py\n"
     ]
    }
   ],
   "source": [
    "update('graph_networkx_louvain')\n",
    "import nbtext as nb\n",
    "import graph_networkx_louvain as gnl\n",
    "import networkx as nx\n",
    "from graph_networkx_louvain import cutdown, make_collocation_graph"
   ]
  },
  {
   "cell_type": "markdown",
   "metadata": {
    "slideshow": {
     "slide_type": "slide"
    }
   },
   "source": [
    "## Bygg korpus og analysér\n",
    "\n",
    "Hent URN-er fra tekst eller metadata"
   ]
  },
  {
   "cell_type": "code",
   "execution_count": 5,
   "metadata": {},
   "outputs": [
    {
     "data": {
      "text/plain": [
       "[[2010043003025, 'Dimbleby, Josceline', 'Så godt som grønt', 1995],\n",
       " [2014120108134, 'Sefland, Aslaug', 'Matglede for diabetikere', 1987],\n",
       " [2007112604056, 'Notaker, Henry', 'Ganens makt', 1993],\n",
       " [2010042903011, 'Jansz, Meg', 'Hjemmets beste burgere', 1997],\n",
       " [2008070304030, '', 'Birasoahppu vuođđoskuvllas', 1992],\n",
       " [2014090306078, '', 'Vi vil vite hva vi kjøper', 1986],\n",
       " [2014020548024, 'Sjøen, Nina', 'Søtt', 2000],\n",
       " [2012022208116, 'Engh, André', 'Kjøkken-ordbok', 1972],\n",
       " [2007032701042, 'Pharo, Aase Kilander', 'Hva skal vi ha til middag?', 1964],\n",
       " [2010081003026, 'Bogø, Jette', 'Jordbær', 1998],\n",
       " [2011062405035, '', 'Mat fra alle land', 1978],\n",
       " [2010033020007, '', 'Fisk', 1998],\n",
       " [2007083001065, 'Hovig, Ingrid Espelid', 'Festkaker', 1991],\n",
       " [2010071903019, 'Maurer, Anita', 'Lett og godt fra Indonesia', 1998],\n",
       " [2010081803036, 'Thommessen, Maria', 'Mat hver dag', 1995],\n",
       " [2007121104005, '', 'Norwegian kitchen', 1993],\n",
       " [2007111401021, 'Craig, Diana', 'Mormors kjøkkenråd', 1992],\n",
       " [2015030408097,\n",
       "  'Færden, Kirstin',\n",
       "  'Materialflyt og kvalitet av mat i storhusholdninger',\n",
       "  1982],\n",
       " [2010060103013, 'Griffiths, Sally', '100 sterke sauser', 1995],\n",
       " [2016031148053, 'Skår, Astrid', 'Verdens beste wok', 2000],\n",
       " [2009011600033, '', 'Pasta', 1998],\n",
       " [2009042304049, '', 'Vi bygger opp matpyramiden', 1985],\n",
       " [2014062307167, '', 'Grønt og flott', 1988],\n",
       " [2007111900018, '', \"Walt Disney's Ole Brumms kokebok\", 1991],\n",
       " [2007081600048, '', 'Grillboken', 1991],\n",
       " [2008102204017, 'Horne, Thomas', 'Suppe', 2000],\n",
       " [2014111948003, 'Parmann, Georg', 'Mat for ølvenner', 1987],\n",
       " [2016062148056, 'Teien, Thor Richard', 'Kva skal vi ha i glaset?', 1979],\n",
       " [2011121506006, '', 'Allergikokeboken', 1994],\n",
       " [2012091706030, 'Holt, Paul', 'Grønn gastronomi', 1979],\n",
       " [2008080400066, 'Wang, Xiao Hui', 'Kina', 1997],\n",
       " [2008022900003, 'Teien, Thor Richard', 'Kva skal vi ha i glaset?', 1995],\n",
       " [2010071903072, 'Ferguson, Clare', 'Ris', 1999],\n",
       " [2012092106003, 'Lundberg, Stig', 'Vinland', 1982],\n",
       " [2009042800017, 'Wemundstad, Bente', '365 dager til et lettere liv', 2000],\n",
       " [2013061938044, '', 'Søtt og syndig', 1984],\n",
       " [2014031007043, 'Wold, Bjørn K.', 'Mat: arbeid og kultur', 1985],\n",
       " [2008071804023, 'Clark, Mary Beth', 'Trattoria', 1996],\n",
       " [2014033148022, '', 'Fransk kokebok', 1997],\n",
       " [2008100804010,\n",
       "  'Moe, Agnar',\n",
       "  'Korn, mjøl og brød i kosthald og ernæring',\n",
       "  1977],\n",
       " [2015072308389, 'Lundberg, Stig', 'Vin', 1984],\n",
       " [2007110504021,\n",
       "  'Newman, Rhona',\n",
       "  '100 pannekaker, suffléer &amp; omeletter',\n",
       "  1991],\n",
       " [2015091506095, 'Blekastad, Hans', 'Naturen som spiskammer', 1979],\n",
       " [2011030803010, '', 'Vilt og fisk', 1997],\n",
       " [2015042348043, '', 'Cordon bleu', 2000],\n",
       " [2014061848083, '', 'Store norske kokeboka', 2000],\n",
       " [2014112707563, 'Brimi, Arne', 'Tid til overs', 2000],\n",
       " [2014062406023, 'Schulerud, Arne', 'Mer viten om det vi spiser', 1977],\n",
       " [2008022500016, 'Singh, Kushu', 'Indisk mat', 1995],\n",
       " [2016020907657, '', 'Sild', 1983],\n",
       " [2007111504007,\n",
       "  'Bang, Karen Dorothea',\n",
       "  'Fuldstændig norsk kogebog til brug såvel i større som mindre husholdninger',\n",
       "  1991],\n",
       " [2010030203010, 'Walfridson, Marguerite', 'Olivenolje og hvitløk', 1996],\n",
       " [2014102708113, '', 'International meny guide', 1992],\n",
       " [2008052104092, 'Erken, Lillemor', 'Tidens kokebok', 1969],\n",
       " [2010070508058, 'Adam', 'Astrologisk kokebok', 1990],\n",
       " [2015081948013, 'Jacobsen, Hanna', 'store norske dessertboken', 1966],\n",
       " [2014071107064, 'Green, Henrietta', '10-minutter kjøkkenet', 1992],\n",
       " [2012022208035, 'Myhre, Leslie Ann', 'En kokebok', 1972],\n",
       " [2013021538082,\n",
       "  'Finngaard, Kari',\n",
       "  'Matgleder fra mitt husmannskjøkken',\n",
       "  1995],\n",
       " [2013091638029, '', 'Selskap med suksess', 1987],\n",
       " [2011110908155, 'Lange, Marit', 'Italiensk mat', 1988],\n",
       " [2008102900004, 'Hovig, Ingrid Espelid', 'Ingrid og kokkene', 2000],\n",
       " [2008021204066, 'Pollestad, Kjell Arild', 'Maten er halve føda', 1995],\n",
       " [2010031603025, 'Piroué, Susi', 'Det ekte franske kjøkken', 1996],\n",
       " [2016093048088, 'Glefjell, Sidsel', 'Mat i gatekjøkken', 1984],\n",
       " [2011030903005, 'Downey, Leslie', 'Gi noe godt', 2000],\n",
       " [2014111948011, 'Newman, Rhona', '100 salater og smågodt', 1987],\n",
       " [2009062601091, '', '\"Ufesk\"', 1981],\n",
       " [2015010748057, '', 'Ostegleder', 1987],\n",
       " [2013091838103, 'Kent, Grace Teed', '100 meksikanske retter', 1989],\n",
       " [2011021408073, 'Kløkstad, Inger', 'Hverdagskost - fibermat', 1998],\n",
       " [2014101306051, 'Kåsin, Britt', 'Sitrusretter til hverdag og fest', 1984],\n",
       " [2009080600079, 'Tveit, Norvald', 'Til bords med smalahove', 1991],\n",
       " [2016110248007, 'Bang, Maren Elisabeth', 'Huusholdnings-Bog', 1993],\n",
       " [2010050603024, 'Sewall, Lena', 'Til bords med Skagenmalerne', 1999],\n",
       " [2013062005146, 'Cheung Mui', '100 kinesiske retter', 1976],\n",
       " [2007092500050, 'Diesen, Tove', 'Mitt eget kjøkken', 1991],\n",
       " [2008092900032, 'Gill, Shirley', 'En-to-tre-wok!', 1999],\n",
       " [2013091838051, '', 'Store dessertboken', 2000],\n",
       " [2008020604034, '', 'Nye praktiske barnematboken', 1994],\n",
       " [2015091148085, 'Johnson, Hugh', 'Vinens verden', 1986],\n",
       " [2014082108071, 'Milsted, David', 'Bløffmakerens håndbok i whisky', 1992],\n",
       " [2016030308036, 'Svensson, Haakon', 'Vin og brennevin', 1981],\n",
       " [2008121604012, '', 'Velkømmen te bords!', 1998],\n",
       " [2014032808046, 'Andersen, Ingrid', 'Hanna Winsnes på nytt', 1966],\n",
       " [2007081001015, 'Pollestad, Kjell Arild', 'Maten er halve føda', 1991],\n",
       " [2012011706059, '', 'Maten vår', 1976],\n",
       " [2008121700027, '', 'Mattradisjoner fra Akershus', 1998],\n",
       " [2008080700090, 'Wilkes, Angela', 'Lett å lage for små kokker', 1998],\n",
       " [2011030903013, 'Olsson, Brita', 'Mat av fisk og skalldyr', 1990],\n",
       " [2015071608132, 'Buen, Marianne Almstrøm', 'Glad mat', 1989],\n",
       " [2012010308149,\n",
       "  'Thorkildsen, Gunlaug',\n",
       "  'Opskrifter på billige fiskeretter',\n",
       "  1950],\n",
       " [2011112108026, 'Erken, Lillemor', 'Liten kokebok for kaffe', 1961],\n",
       " [2010051103003, 'Ferguson, Clare', 'smak av Mexico', 1998],\n",
       " [2012071905085, '', 'Hverdagsmat', 1981],\n",
       " [2014011708135,\n",
       "  'Moe, Agnar',\n",
       "  'Korn, mel og brød i kosthold og ernæring',\n",
       "  1981],\n",
       " [2014030548040, 'Cadogan, Mary', 'Alt om matlaging', 1982],\n",
       " [2009081101011, 'Tømt, Wenche', 'Kjøttdeigboka', 1990],\n",
       " [2007072400012, 'Holm, Thora', 'Soppretter', 1970],\n",
       " [2014033148152, 'Andersen, Viggo', 'Sunt og lekkert', 1991]]"
      ]
     },
     "execution_count": 5,
     "metadata": {},
     "output_type": "execute_result"
    }
   ],
   "source": [
    "nb.get_urn({'ddk':\"641%\", 'limit':100})"
   ]
  },
  {
   "cell_type": "code",
   "execution_count": 6,
   "metadata": {},
   "outputs": [],
   "source": [
    "korpus = nb.Corpus(ddk='641%', period = (1960, 2010))"
   ]
  },
  {
   "cell_type": "code",
   "execution_count": 7,
   "metadata": {},
   "outputs": [
    {
     "data": {
      "text/html": [
       "ss, dl, pepper, salt, ts, smør, Legg, skiver, Tilsett, Bland, Kok, Hell, Rør, sausen, Skjær, olivenolje, løk, smak, sukker, Ha, deigen, minutter, kjøttet, egg, hvitløk, Server, hvetemel, persille, melk, koke, hakket, Stek, tomater, Varm, finhakket, Smak, bolle, stek, vann, poteter, fisken, paprika, mel, ovnen, tilsett, saus, skjær, sitron, kok, olje, fløte, terninger, kokt, ost, biter, blandingen, smøret, serveres, Ta, kjele, servering, varm, lokk, oljen, grønnsakene, porsjoner, bland, sitronsaft, løken, rør, hell, salat, brød, hvitvin, kokte, krydder, revet, suppen, timian, g, La, Del, server, kaldt, Skrell, eddik, varme, ingefær, tynne, fett, Dryss, småkoke, ris, legg, grønnsaker, potetene, kjøtt, kokende, sopp, gryte, vin, strimler, stekepanne, stekt, sennep, smaker, Smelt, kylling, bær, frisk, 200, basilikum, hakkede, Visp, kremfløte, dryss, ildfast, Serveres, omrøring, honning, margarin, boks, pynt, fisk, melet, Dekk, tørr, eggeplommer, Avkjøl, fedd, purre, Sil, oliven, fat, hvit, brun, friske, dill, rømme, tomatene, lages, salaten, sjalottløk, gulrøtter, osten, kjøleskapet, kaken, reker, smurt, malt, renne, melis, smaken, kyllingen, 250, urter, frukt, Pensle, laurbærblad, stekes, fersk, nykvernet, rist, koriander, gressløk, minutten, rødvin, mandler, rosiner, kald, tykk, panne, resten, gulrot, bakepulver, Pisk, Fordel, krem, kanel, oppskrift, tomatpuré, kjelen, svak, Fjern, Smør, pasta, stekeovnen, møre, buljong, deig, tilsettes, kokes, gryten, bacon, marinaden, saltet, sukkeret, formen, kniv, middels"
      ],
      "text/plain": [
       "<IPython.core.display.HTML object>"
      ]
     },
     "execution_count": 7,
     "metadata": {},
     "output_type": "execute_result"
    }
   ],
   "source": [
    "korpus.difference(doc_exp=1.1, freq_exp=1.1)"
   ]
  },
  {
   "cell_type": "code",
   "execution_count": 8,
   "metadata": {},
   "outputs": [
    {
     "data": {
      "text/plain": [
       "[2011032108076,\n",
       " 2013062438223,\n",
       " 2016011448168,\n",
       " 2014070748005,\n",
       " 2014052308060,\n",
       " 2009062903001,\n",
       " 2014112707555,\n",
       " 2010033020009,\n",
       " 2011022403015,\n",
       " 2008100804066,\n",
       " 2015081948206,\n",
       " 2012072638011,\n",
       " 2016011248112,\n",
       " 2011071306043,\n",
       " 2012121106068,\n",
       " 2008102900013,\n",
       " 2014112707521,\n",
       " 2008080400066,\n",
       " 2010071203015,\n",
       " 2011060308025,\n",
       " 2008121100021,\n",
       " 2012070505095,\n",
       " 2011050308023,\n",
       " 2013102108154,\n",
       " 2008091004001,\n",
       " 2013091638012,\n",
       " 2011021603057,\n",
       " 2008012801010,\n",
       " 2014062607104,\n",
       " 2012070238004,\n",
       " 2012082208093,\n",
       " 2014071007077,\n",
       " 2014110448080,\n",
       " 2010120808024,\n",
       " 2010042803033,\n",
       " 2015082448234,\n",
       " 2008120300023,\n",
       " 2014110448161,\n",
       " 2016070448079,\n",
       " 2010022503036,\n",
       " 2010070508001,\n",
       " 2014110607589,\n",
       " 2016060848002,\n",
       " 2011071205589,\n",
       " 2010022503011,\n",
       " 2009012904039,\n",
       " 2015090948061,\n",
       " 2013121908091,\n",
       " 2012102907021,\n",
       " 2011070608027,\n",
       " 2015042348043,\n",
       " 2014022148007,\n",
       " 2013062438134,\n",
       " 2010060903010,\n",
       " 2009081903032,\n",
       " 2010050603039,\n",
       " 2011021403038,\n",
       " 2010071303015,\n",
       " 2011021403006,\n",
       " 2015052748008,\n",
       " 2012071638016,\n",
       " 2008102100028,\n",
       " 2014030548022,\n",
       " 2016072948185,\n",
       " 2009050604056,\n",
       " 2011110908155,\n",
       " 2010071503038,\n",
       " 2010030103026,\n",
       " 2013091838002,\n",
       " 2014063005058,\n",
       " 2016061508031,\n",
       " 2010033003018,\n",
       " 2012071238015,\n",
       " 2013110608006,\n",
       " 2010042003043,\n",
       " 2014120807509,\n",
       " 2010082703020,\n",
       " 2016070748012,\n",
       " 2010022303008,\n",
       " 2010050303004,\n",
       " 2016030308055,\n",
       " 2010031903036,\n",
       " 2016062348105,\n",
       " 2008111304093,\n",
       " 2012032838015,\n",
       " 2014051506003,\n",
       " 2011022803042,\n",
       " 2011070705101,\n",
       " 2013062038041,\n",
       " 2008011104008,\n",
       " 2016011207586,\n",
       " 2007081400070,\n",
       " 2009042800082,\n",
       " 2015121548046,\n",
       " 2015082448025,\n",
       " 2014071107064,\n",
       " 2011092808093,\n",
       " 2011022203038,\n",
       " 2011103108006,\n",
       " 2014022148009]"
      ]
     },
     "execution_count": 8,
     "metadata": {},
     "output_type": "execute_result"
    }
   ],
   "source": [
    "korpus.target_urn"
   ]
  },
  {
   "cell_type": "code",
   "execution_count": 27,
   "metadata": {},
   "outputs": [],
   "source": [
    "grafer = dict()\n",
    "missed = []\n",
    "for u in korpus.target_urn:\n",
    "    try:\n",
    "        grafer[u] = nb.make_network_graph(u,list(korpus.difference(doc_exp=1.01, freq_exp=1.01, aslist = False).index)[:300]) \n",
    "    except:\n",
    "        missed.append(nb.metadata(u))"
   ]
  },
  {
   "cell_type": "markdown",
   "metadata": {},
   "source": [
    "## Analyse"
   ]
  },
  {
   "cell_type": "markdown",
   "metadata": {},
   "source": [
    "Hent ut mulige navn fra boken"
   ]
  },
  {
   "cell_type": "code",
   "execution_count": 28,
   "metadata": {},
   "outputs": [],
   "source": [
    "graf = nx.compose_all([grafer[u] for u in grafer])"
   ]
  },
  {
   "cell_type": "markdown",
   "metadata": {},
   "source": [
    "Clustring slik fargene viser"
   ]
  },
  {
   "cell_type": "code",
   "execution_count": 29,
   "metadata": {},
   "outputs": [
    {
     "data": {
      "text/plain": [
       "96"
      ]
     },
     "execution_count": 29,
     "metadata": {},
     "output_type": "execute_result"
    }
   ],
   "source": [
    "len(grafer)"
   ]
  },
  {
   "cell_type": "code",
   "execution_count": 30,
   "metadata": {},
   "outputs": [
    {
     "name": "stdout",
     "output_type": "stream",
     "text": [
      "1 røren, gjær, melken, oljen, kakene, Bland, sjokolade, deig, melet, Visp, Avkjøl, bland, vaniljesukker, kanel, smøret, Smelt, krem, tilsatt, deigen, mel, smurt, Rør, bakepapir, rist, skjær, bakepulver, Fordel, Stek, fløten, kaken\n",
      "\n",
      "2 Tilsett, suppen, Rens, stekeovnen, kok, Ha, ildfast, fisken, Skjær, tomatene, blandingen, grønnsakene, krydder, Server, Legg, tomatpuré, Sil, Smak, møre, ost, løken, Dryss, Vend, panne, smak, sausen, kjele, tilsett, rødvin, smør, kokte, saus, Pensle, minutten, stek, kjøttet, Kok, koke, Hell, dryss\n",
      "\n",
      "3 bollen, créme, soyasaus, terninger, Pynt, salaten, eggene, renne, hvitløkfedd, boks, eddik, kremfløte, laurbærblad, hakkede, brun, rømme, honning, salat, kyllingen, gryte, stekepanne, osten, kapers, server, Pisk, squash, Serveres, rosiner, oppskrift, serveres, fyllet, Strø, timian, Dekk, porsjon, Skrell, dill, småkoke, fett, avkjøles, Fjern, sjalottløk, Fres, tørkede, hvitløken, saltet, gressløk, appelsin, bunt, koker, surre, omrøring, sennep, Skyll, pasta, buljong, eggeplommer, marinaden, Brun, dressingen, saften, brødet, servere, potetene, ingefær, kjøleskapet, bær, parmesan, Vask, tilbehør, pynt, laks, kaker, steke, purre, bacon, steking, kokt, hakket, oppskriften, vårløk, kokes, tomat, fraiche, erter, jordbær, kokende, bolle, koriander, nykvernet, mandler, melis, gryten, sitron, sukkeret, smaken, stekes, Smør, hvitvin, sopp, spinat, fløte, Varm, servering, yoghurt, tilsettes, soppen\n",
      "\n",
      "4 porsjoner, ts, sitronsaft, ♦, fedd, strimler, oliven, hvetemel, pepper, tomater, paprika, rosmarin, ss, persille, skiver, melk, hvitløk, dl, basilikum, Kjør, løk, finhakket, olivenolje\n",
      "\n"
     ]
    }
   ],
   "source": [
    "gnl.show_community(graf)"
   ]
  },
  {
   "cell_type": "markdown",
   "metadata": {},
   "source": [
    "Se litt på hva statistikken viser"
   ]
  },
  {
   "cell_type": "code",
   "execution_count": 16,
   "metadata": {},
   "outputs": [
    {
     "data": {
      "text/plain": [
       "{'200': 9.742833974632217e-05,\n",
       " 'g': 9.742833974632217e-05,\n",
       " 'resten': 9.742833974632217e-05,\n",
       " 'Bland': 9.742833974632217e-05,\n",
       " 'Dryss': 9.742833974632217e-05,\n",
       " 'La': 9.742833974632217e-05,\n",
       " 'Tilsett': 9.742833974632217e-05,\n",
       " 'bland': 9.742833974632217e-05,\n",
       " 'bolle': 9.742833974632217e-05,\n",
       " 'egg': 9.742833974632217e-05}"
      ]
     },
     "execution_count": 16,
     "metadata": {},
     "output_type": "execute_result"
    }
   ],
   "source": [
    "dict(nb.central_betweenness_characters(graf, n=10))"
   ]
  },
  {
   "cell_type": "code",
   "execution_count": 14,
   "metadata": {},
   "outputs": [
    {
     "data": {
      "text/plain": [
       "{'200': 1.0,\n",
       " 'g': 1.0,\n",
       " 'resten': 1.0,\n",
       " 'Bland': 1.0,\n",
       " 'Dryss': 1.0,\n",
       " 'La': 1.0,\n",
       " 'Tilsett': 1.0,\n",
       " 'bland': 1.0,\n",
       " 'bolle': 1.0,\n",
       " 'egg': 1.0}"
      ]
     },
     "execution_count": 14,
     "metadata": {},
     "output_type": "execute_result"
    }
   ],
   "source": [
    "dict(nb.central_characters(graf, n=10))"
   ]
  },
  {
   "cell_type": "markdown",
   "metadata": {},
   "source": [
    "Lager en subgraf basert på vekting av buene i grafen"
   ]
  },
  {
   "cell_type": "code",
   "execution_count": 23,
   "metadata": {},
   "outputs": [],
   "source": [
    "subedge = [(edge[0], edge[1]) for edge in graf.edges(data=True) if edge[2]['weight'] > 30]"
   ]
  },
  {
   "cell_type": "code",
   "execution_count": 24,
   "metadata": {},
   "outputs": [
    {
     "data": {
      "image/png": "[encoded data removed]",
      "text/plain": [
       "<Figure size 1080x720 with 1 Axes>"
      ]
     },
     "metadata": {},
     "output_type": "display_data"
    }
   ],
   "source": [
    "gnl.show_graph(graf.edge_subgraph(subedge))"
   ]
  },
  {
   "cell_type": "code",
   "execution_count": 25,
   "metadata": {},
   "outputs": [
    {
     "data": {
      "text/plain": [
       "[('salt', 0.34199700270178995),\n",
       " ('minutter', 0.3059249408983451),\n",
       " ('ss', 0.07677199425869638),\n",
       " ('skiver', 0.07180851063829786),\n",
       " ('pepper', 0.06915843465045593),\n",
       " ('dl', 0.0631712259371834),\n",
       " ('g', 0.058543355285376554),\n",
       " ('vann', 0.046453900709219856),\n",
       " ('deigen', 0.03634751773049645),\n",
       " ('ts', 0.02734084768659237)]"
      ]
     },
     "execution_count": 25,
     "metadata": {},
     "output_type": "execute_result"
    }
   ],
   "source": [
    "nb.central_betweenness_characters(graf.edge_subgraph(subedge))"
   ]
  },
  {
   "cell_type": "code",
   "execution_count": 26,
   "metadata": {},
   "outputs": [
    {
     "data": {
      "text/plain": [
       "[('salt', 0.5),\n",
       " ('minutter', 0.4375),\n",
       " ('pepper', 0.29166666666666663),\n",
       " ('ss', 0.2708333333333333),\n",
       " ('dl', 0.20833333333333331),\n",
       " ('ts', 0.1875),\n",
       " ('g', 0.16666666666666666),\n",
       " ('vann', 0.14583333333333331),\n",
       " ('finhakket', 0.14583333333333331),\n",
       " ('skiver', 0.125)]"
      ]
     },
     "execution_count": 26,
     "metadata": {},
     "output_type": "execute_result"
    }
   ],
   "source": [
    "nb.central_characters(graf.edge_subgraph(subedge))"
   ]
  },
  {
   "cell_type": "code",
   "execution_count": null,
   "metadata": {},
   "outputs": [],
   "source": []
  }
 ],
 "metadata": {
  "kernelspec": {
   "display_name": "Python 3",
   "language": "python",
   "name": "python3"
  },
  "language_info": {
   "codemirror_mode": {
    "name": "ipython",
    "version": 3
   },
   "file_extension": ".py",
   "mimetype": "text/x-python",
   "name": "python",
   "nbconvert_exporter": "python",
   "pygments_lexer": "ipython3",
   "version": "3.6.5"
  }
 },
 "nbformat": 4,
 "nbformat_minor": 2
}
